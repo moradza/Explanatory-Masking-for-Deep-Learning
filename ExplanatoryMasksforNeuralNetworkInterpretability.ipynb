{
  "nbformat": 4,
  "nbformat_minor": 0,
  "metadata": {
    "kernelspec": {
      "display_name": "Python 3",
      "language": "python",
      "name": "python3"
    },
    "language_info": {
      "codemirror_mode": {
        "name": "ipython",
        "version": 3
      },
      "file_extension": ".py",
      "mimetype": "text/x-python",
      "name": "python",
      "nbconvert_exporter": "python",
      "pygments_lexer": "ipython3",
      "version": "3.8.5"
    },
    "colab": {
      "name": "ExplanatoryMasksforNeuralNetworkInterpretability.ipynb",
      "provenance": [],
      "include_colab_link": true
    }
  },
  "cells": [
    {
      "cell_type": "markdown",
      "metadata": {
        "id": "view-in-github",
        "colab_type": "text"
      },
      "source": [
        "<a href=\"https://colab.research.google.com/github/moradza/Explanatory-Masking-for-Deep-Learning/blob/main/ExplanatoryMasksforNeuralNetworkInterpretability.ipynb\" target=\"_parent\"><img src=\"https://colab.research.google.com/assets/colab-badge.svg\" alt=\"Open In Colab\"/></a>"
      ]
    },
    {
      "cell_type": "markdown",
      "metadata": {
        "id": "Vf1jGRMZBkGb"
      },
      "source": [
        "# Explanatory Deep Learning\n",
        "Two different methods are studied on MNIST dataset to find important feature in image for deep learning classification. Further details inside following references.\n",
        "\n",
        "1. Masking [ref](https://arxiv.org/pdf/1911.06876.pdf) \n",
        "2. Saliancy Map [ref](https://arxiv.org/abs/1610.02391) \n",
        "\n",
        "**future work: CNN and Graph Neural Network**<br> \n",
        "*additional documentations in the future*"
      ]
    },
    {
      "cell_type": "code",
      "metadata": {
        "id": "4M2bSy-OBkGh"
      },
      "source": [
        "import numpy as np\n",
        "from tensorflow.keras.layers import Dense, Input\n",
        "from tensorflow.keras.models import Model\n",
        "from tensorflow.keras.optimizers import Adam\n",
        "import tensorflow as tf\n",
        "from tensorflow.keras import layers \n",
        "import matplotlib.pyplot as plt\n",
        "\n",
        "\n",
        "model = tf.keras.Sequential([\n",
        "    tf.keras.layers.Dense(256, activation='relu'),\n",
        "    tf.keras.layers.Dense(10)\n",
        "])"
      ],
      "execution_count": 1,
      "outputs": []
    },
    {
      "cell_type": "code",
      "metadata": {
        "id": "yH2_7-a2BkGi"
      },
      "source": [
        "original_dim = 784\n",
        "\n",
        "(x_train, y_train), (x_test, y_test) = tf.keras.datasets.mnist.load_data()\n",
        "x_train = x_train.reshape(60000, 784).astype(\"float32\")  / 255\n",
        "x_test = x_test.reshape(x_test.shape[0], 784).astype(\"float32\") \n"
      ],
      "execution_count": 2,
      "outputs": []
    },
    {
      "cell_type": "code",
      "metadata": {
        "id": "MT62SIB4BkGj"
      },
      "source": [
        "model.compile(optimizer='adam',\n",
        "              loss=tf.keras.losses.SparseCategoricalCrossentropy(from_logits=True),\n",
        "              metrics=['accuracy'])"
      ],
      "execution_count": 3,
      "outputs": []
    },
    {
      "cell_type": "code",
      "metadata": {
        "colab": {
          "base_uri": "https://localhost:8080/"
        },
        "id": "-PD9yXSkBkGj",
        "outputId": "b7696220-126d-4c3d-90f5-e40b7c82407a"
      },
      "source": [
        "model.fit(x_train, y_train, epochs=40)"
      ],
      "execution_count": 4,
      "outputs": [
        {
          "output_type": "stream",
          "text": [
            "Epoch 1/40\n",
            "1875/1875 [==============================] - 5s 2ms/step - loss: 0.3798 - accuracy: 0.8896\n",
            "Epoch 2/40\n",
            "1875/1875 [==============================] - 4s 2ms/step - loss: 0.0976 - accuracy: 0.9708\n",
            "Epoch 3/40\n",
            "1875/1875 [==============================] - 4s 2ms/step - loss: 0.0637 - accuracy: 0.9808\n",
            "Epoch 4/40\n",
            "1875/1875 [==============================] - 4s 2ms/step - loss: 0.0420 - accuracy: 0.9872\n",
            "Epoch 5/40\n",
            "1875/1875 [==============================] - 4s 2ms/step - loss: 0.0295 - accuracy: 0.9910\n",
            "Epoch 6/40\n",
            "1875/1875 [==============================] - 4s 2ms/step - loss: 0.0246 - accuracy: 0.9927\n",
            "Epoch 7/40\n",
            "1875/1875 [==============================] - 4s 2ms/step - loss: 0.0171 - accuracy: 0.9948\n",
            "Epoch 8/40\n",
            "1875/1875 [==============================] - 4s 2ms/step - loss: 0.0137 - accuracy: 0.9956\n",
            "Epoch 9/40\n",
            "1875/1875 [==============================] - 4s 2ms/step - loss: 0.0088 - accuracy: 0.9977\n",
            "Epoch 10/40\n",
            "1875/1875 [==============================] - 4s 2ms/step - loss: 0.0104 - accuracy: 0.9968\n",
            "Epoch 11/40\n",
            "1875/1875 [==============================] - 4s 2ms/step - loss: 0.0103 - accuracy: 0.9970\n",
            "Epoch 12/40\n",
            "1875/1875 [==============================] - 4s 2ms/step - loss: 0.0078 - accuracy: 0.9977\n",
            "Epoch 13/40\n",
            "1875/1875 [==============================] - 4s 2ms/step - loss: 0.0050 - accuracy: 0.9986\n",
            "Epoch 14/40\n",
            "1875/1875 [==============================] - 4s 2ms/step - loss: 0.0061 - accuracy: 0.9980\n",
            "Epoch 15/40\n",
            "1875/1875 [==============================] - 4s 2ms/step - loss: 0.0044 - accuracy: 0.9986\n",
            "Epoch 16/40\n",
            "1875/1875 [==============================] - 4s 2ms/step - loss: 0.0065 - accuracy: 0.9978\n",
            "Epoch 17/40\n",
            "1875/1875 [==============================] - 4s 2ms/step - loss: 0.0058 - accuracy: 0.9977\n",
            "Epoch 18/40\n",
            "1875/1875 [==============================] - 4s 2ms/step - loss: 0.0043 - accuracy: 0.9988\n",
            "Epoch 19/40\n",
            "1875/1875 [==============================] - 4s 2ms/step - loss: 0.0074 - accuracy: 0.9979\n",
            "Epoch 20/40\n",
            "1875/1875 [==============================] - 4s 2ms/step - loss: 0.0025 - accuracy: 0.9993\n",
            "Epoch 21/40\n",
            "1875/1875 [==============================] - 4s 2ms/step - loss: 0.0050 - accuracy: 0.9987\n",
            "Epoch 22/40\n",
            "1875/1875 [==============================] - 4s 2ms/step - loss: 0.0035 - accuracy: 0.9989\n",
            "Epoch 23/40\n",
            "1875/1875 [==============================] - 4s 2ms/step - loss: 0.0040 - accuracy: 0.9987\n",
            "Epoch 24/40\n",
            "1875/1875 [==============================] - 4s 2ms/step - loss: 0.0045 - accuracy: 0.9986\n",
            "Epoch 25/40\n",
            "1875/1875 [==============================] - 4s 2ms/step - loss: 0.0032 - accuracy: 0.9989\n",
            "Epoch 26/40\n",
            "1875/1875 [==============================] - 4s 2ms/step - loss: 0.0038 - accuracy: 0.9987\n",
            "Epoch 27/40\n",
            "1875/1875 [==============================] - 4s 2ms/step - loss: 0.0042 - accuracy: 0.9986\n",
            "Epoch 28/40\n",
            "1875/1875 [==============================] - 4s 2ms/step - loss: 0.0046 - accuracy: 0.9985\n",
            "Epoch 29/40\n",
            "1875/1875 [==============================] - 4s 2ms/step - loss: 0.0026 - accuracy: 0.9992\n",
            "Epoch 30/40\n",
            "1875/1875 [==============================] - 4s 2ms/step - loss: 0.0036 - accuracy: 0.9987\n",
            "Epoch 31/40\n",
            "1875/1875 [==============================] - 4s 2ms/step - loss: 0.0040 - accuracy: 0.9986\n",
            "Epoch 32/40\n",
            "1875/1875 [==============================] - 4s 2ms/step - loss: 0.0039 - accuracy: 0.9988\n",
            "Epoch 33/40\n",
            "1875/1875 [==============================] - 4s 2ms/step - loss: 0.0044 - accuracy: 0.9987\n",
            "Epoch 34/40\n",
            "1875/1875 [==============================] - 4s 2ms/step - loss: 0.0011 - accuracy: 0.9997\n",
            "Epoch 35/40\n",
            "1875/1875 [==============================] - 4s 2ms/step - loss: 0.0037 - accuracy: 0.9988\n",
            "Epoch 36/40\n",
            "1875/1875 [==============================] - 4s 2ms/step - loss: 0.0020 - accuracy: 0.9994\n",
            "Epoch 37/40\n",
            "1875/1875 [==============================] - 4s 2ms/step - loss: 0.0039 - accuracy: 0.9986\n",
            "Epoch 38/40\n",
            "1875/1875 [==============================] - 4s 2ms/step - loss: 0.0024 - accuracy: 0.9993\n",
            "Epoch 39/40\n",
            "1875/1875 [==============================] - 4s 2ms/step - loss: 0.0021 - accuracy: 0.9992\n",
            "Epoch 40/40\n",
            "1875/1875 [==============================] - 4s 2ms/step - loss: 0.0031 - accuracy: 0.9991\n"
          ],
          "name": "stdout"
        },
        {
          "output_type": "execute_result",
          "data": {
            "text/plain": [
              "<tensorflow.python.keras.callbacks.History at 0x7fab87c41590>"
            ]
          },
          "metadata": {
            "tags": []
          },
          "execution_count": 4
        }
      ]
    },
    {
      "cell_type": "code",
      "metadata": {
        "colab": {
          "base_uri": "https://localhost:8080/"
        },
        "id": "401PUPuPBkGk",
        "outputId": "3ebabb5c-0410-402d-f407-2c2f35ac91d2"
      },
      "source": [
        "test_loss, test_acc = model.evaluate(x_test,  y_test, verbose=2)\n",
        "print('\\nTest accuracy:', test_acc)"
      ],
      "execution_count": 5,
      "outputs": [
        {
          "output_type": "stream",
          "text": [
            "313/313 - 0s - loss: 38.1366 - accuracy: 0.9822\n",
            "\n",
            "Test accuracy: 0.982200026512146\n"
          ],
          "name": "stdout"
        }
      ]
    },
    {
      "cell_type": "code",
      "metadata": {
        "id": "yTJKIiZoBkGk"
      },
      "source": [
        "# model.get_config()"
      ],
      "execution_count": 6,
      "outputs": []
    },
    {
      "cell_type": "code",
      "metadata": {
        "id": "hkC2DWYpBkGl"
      },
      "source": [
        "layer_output = model.get_layer('dense').output\n",
        "layer_output.trainable =False\n",
        "model.trainable = False\n",
        "explainer_layer1 = Dense(int(original_dim/2), activation='relu')(layer_output)#\n",
        "mask = Dense(original_dim, activation='sigmoid',activity_regularizer=tf.keras.regularizers.L1L2(l1=0.00001, l2=0.00001))(explainer_layer1)#\n",
        "new_input = tf.keras.layers.Multiply()([mask, model.input])\n",
        "class_new = model(new_input, training=False)\n",
        "model2 = Model(model.input, outputs=class_new)\n"
      ],
      "execution_count": 7,
      "outputs": []
    },
    {
      "cell_type": "code",
      "metadata": {
        "id": "1nDE0yeqBkGl"
      },
      "source": [
        "model2.compile(optimizer='adam',\n",
        "              loss=tf.keras.losses.SparseCategoricalCrossentropy(from_logits=True),\n",
        "              metrics=['accuracy'])"
      ],
      "execution_count": 8,
      "outputs": []
    },
    {
      "cell_type": "code",
      "metadata": {
        "colab": {
          "base_uri": "https://localhost:8080/"
        },
        "id": "_-FuHWatBkGl",
        "outputId": "4df0313e-a002-46b4-f22f-5aaf5ec21d01"
      },
      "source": [
        "model2.fit(x_train, y_train, epochs=30)"
      ],
      "execution_count": null,
      "outputs": [
        {
          "output_type": "stream",
          "text": [
            "Epoch 1/30\n",
            "1875/1875 [==============================] - 13s 7ms/step - loss: 0.0496 - accuracy: 0.9922\n",
            "Epoch 2/30\n",
            "1875/1875 [==============================] - 13s 7ms/step - loss: 0.0208 - accuracy: 0.9987\n",
            "Epoch 3/30\n",
            "1875/1875 [==============================] - 13s 7ms/step - loss: 0.0176 - accuracy: 0.9983\n",
            "Epoch 4/30\n",
            "1875/1875 [==============================] - 13s 7ms/step - loss: 0.0140 - accuracy: 0.9988\n",
            "Epoch 5/30\n",
            "1875/1875 [==============================] - 13s 7ms/step - loss: 0.0109 - accuracy: 0.9989\n",
            "Epoch 6/30\n",
            "1875/1875 [==============================] - 13s 7ms/step - loss: 0.0082 - accuracy: 0.9994\n",
            "Epoch 7/30\n",
            "1875/1875 [==============================] - 12s 6ms/step - loss: 0.0080 - accuracy: 0.9990\n",
            "Epoch 8/30\n",
            "1875/1875 [==============================] - 12s 7ms/step - loss: 0.0087 - accuracy: 0.9989\n",
            "Epoch 9/30\n",
            "1875/1875 [==============================] - 12s 7ms/step - loss: 0.0081 - accuracy: 0.9988\n",
            "Epoch 10/30\n",
            "1875/1875 [==============================] - 12s 7ms/step - loss: 0.0059 - accuracy: 0.9994\n",
            "Epoch 11/30\n",
            "1875/1875 [==============================] - 13s 7ms/step - loss: 0.0046 - accuracy: 0.9996\n",
            "Epoch 12/30\n",
            "1875/1875 [==============================] - 13s 7ms/step - loss: 0.0038 - accuracy: 0.9998\n",
            "Epoch 13/30\n",
            "1265/1875 [===================>..........] - ETA: 4s - loss: 0.0056 - accuracy: 0.9993"
          ],
          "name": "stdout"
        }
      ]
    },
    {
      "cell_type": "code",
      "metadata": {
        "id": "grd-V9TABkGm"
      },
      "source": [
        "test_loss, test_acc = model2.evaluate(x_test,  y_test, verbose=2)\n",
        "print('\\nTest accuracy:', test_acc)"
      ],
      "execution_count": null,
      "outputs": []
    },
    {
      "cell_type": "code",
      "metadata": {
        "id": "ahgfPBMUBkGm"
      },
      "source": [
        "# model2.get_config()"
      ],
      "execution_count": null,
      "outputs": []
    },
    {
      "cell_type": "code",
      "metadata": {
        "id": "cpRY0r94BkGm"
      },
      "source": [
        "layer_output = model2.get_layer('multiply').output\n",
        "modelexplainer = Model(model2.input, outputs=layer_output)"
      ],
      "execution_count": null,
      "outputs": []
    },
    {
      "cell_type": "code",
      "metadata": {
        "id": "ZlOViuopBkGn"
      },
      "source": [
        "model.summary(), model2.summary()"
      ],
      "execution_count": null,
      "outputs": []
    },
    {
      "cell_type": "code",
      "metadata": {
        "id": "SaBiXJwdBkGn"
      },
      "source": [
        "masked_img = modelexplainer.predict(x_train)\n",
        "img = x_train\n",
        "def plot_image(img):\n",
        "    plt.grid(False)\n",
        "    plt.xticks([])\n",
        "    plt.yticks([])\n",
        "    plt.imshow(1-img.reshape((28,28)), cmap='gray')\n",
        "    \n",
        "num_rows = 8\n",
        "num_cols = 4\n",
        "num_images = num_rows*num_cols\n",
        "plt.figure(figsize=(7*num_cols, 7*num_rows))\n",
        "for i in range(num_images):\n",
        "    plt.subplot(2*num_rows, 2*num_cols, 2*i+1)\n",
        "    plot_image(img[i])\n",
        "    plt.subplot(2*num_rows, 2*num_cols, 2*i+2)\n",
        "    plot_image(masked_img[i])\n",
        "plt.tight_layout()\n",
        "plt.show()"
      ],
      "execution_count": null,
      "outputs": []
    },
    {
      "cell_type": "code",
      "metadata": {
        "id": "K1eT_gfYBkGn"
      },
      "source": [
        "def saliency(inputs):\n",
        "    inps = tf.Variable(inputs)\n",
        "    with tf.GradientTape() as tape:\n",
        "        prediction = model(inps)\n",
        "    return tape.gradient(prediction,inps)"
      ],
      "execution_count": null,
      "outputs": []
    },
    {
      "cell_type": "code",
      "metadata": {
        "id": "HxMJJTOBBkGo"
      },
      "source": [
        "saliency(x_train[:3]).shape"
      ],
      "execution_count": null,
      "outputs": []
    },
    {
      "cell_type": "code",
      "metadata": {
        "id": "nYyk4zWVBkGo"
      },
      "source": [
        "saliency_img = saliency(x_train).numpy()\n",
        "img = x_train\n",
        "\n",
        "num_rows = 8\n",
        "num_cols = 4\n",
        "num_images = num_rows*num_cols\n",
        "plt.figure(figsize=(5*num_cols, 5*num_rows))\n",
        "for i in range(num_images):\n",
        "    plt.subplot(2*num_rows, 2*num_cols, 2*i+1)\n",
        "    plot_image(img[i])\n",
        "    plt.subplot(2*num_rows, 2*num_cols, 2*i+2)\n",
        "    plot_image(saliency_img[i])#/np.max(saliency_img[i]))\n",
        "plt.tight_layout()\n",
        "plt.show()"
      ],
      "execution_count": null,
      "outputs": []
    },
    {
      "cell_type": "code",
      "metadata": {
        "id": "s8GcIeCdBkGo"
      },
      "source": [
        "num_rows = 10\n",
        "num_cols = 2\n",
        "num_images = num_rows*num_cols\n",
        "plt.figure(figsize=(7*num_cols, 7*num_rows))\n",
        "for i in range(num_images):\n",
        "    plt.subplot(3*num_rows, 3*num_cols, 3*i+1)\n",
        "    plot_image(saliency_img[i])\n",
        "    plt.subplot(3*num_rows, 3*num_cols, 3*i+2)\n",
        "    plot_image(img[i])\n",
        "    plt.subplot(3*num_rows, 3*num_cols, 3*i+3)\n",
        "    plot_image(masked_img[i])\n",
        "plt.tight_layout()\n",
        "plt.show()"
      ],
      "execution_count": null,
      "outputs": []
    },
    {
      "cell_type": "code",
      "metadata": {
        "id": "mZn0kXYlBkGp"
      },
      "source": [
        "train_loss, train_acc = model2.evaluate(masked_img,  y_train, verbose=2)\n",
        "print(\"Accuracy of masked images: %.4f\", train_acc)"
      ],
      "execution_count": null,
      "outputs": []
    }
  ]
}